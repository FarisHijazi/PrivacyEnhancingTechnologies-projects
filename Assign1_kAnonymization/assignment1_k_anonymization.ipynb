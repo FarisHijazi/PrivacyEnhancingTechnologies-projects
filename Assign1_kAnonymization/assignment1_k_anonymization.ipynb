{
 "cells": [
  {
   "cell_type": "markdown",
   "metadata": {},
   "source": [
    "# KFUPM<br>College of Computer Science and Engineering<br>Computer Engineering Department<br>COE 449: Privacy Enhancing Technologies\n",
    "\n",
    "**Faris Hijazi s201578750@kfupm.edu.sa**\n",
    "\n",
    "Fall 2019 (191)\n",
    "\n",
    "Assignment 1: Due date Thursday 3/10/2019"
   ]
  },
  {
   "cell_type": "markdown",
   "metadata": {},
   "source": [
    "## Objectives\n",
    "The objectives of this assignment is the following\n",
    "1. Conduct various type of attacks on a public dataset\n",
    "2. Implement a k-anonymization algorithm, in particular, Mondrian mul-\n",
    "tidimensional\n",
    "3. Analyze the tradeoff between privacy and utility, and\n",
    "4. Understand the difference between k-anonymization, l-diversity, and\n",
    "t-closeness"
   ]
  },
  {
   "cell_type": "markdown",
   "metadata": {},
   "source": [
    "## Dataset description\n",
    "\n",
    "The dataset used in this assignment is the IPUMS data extracted from the\n",
    "2001 US Census. The dataset has 8 attributes as described in Table 1. The\n",
    "size of the dataset is 20,000 tuples (rows). All attributes include numerical\n",
    "values only. For example, Gender attributes can be either 1 or 2, which\n",
    "represents Male and Female, respectively. The Income attribute is the annual\n",
    "income in thousand USD, for example, an income of 20 means 20,000 (20K)\n",
    "annually."
   ]
  },
  {
   "cell_type": "markdown",
   "metadata": {},
   "source": [
    "## Tasks\n",
    "\n",
    "### Task1: Linkage attack (20 pts)\n",
    "Download the table named \"ipums.txt\" from blackboard and unzip\n",
    "it. Using Table 2 as external background information, perform a\n",
    "linkage attack to find the annual salary of each person in the table.\n",
    "You are free to use any tool/programming language to complete\n",
    "this task, e.g., Excel, Python, Java, etc.\n",
    "\n",
    "| Name    | Age | Birth |\n",
    "| ------- | --- | ----- |\n",
    "| Ahmed   | 28  | 110   |\n",
    "| Fatma   | 44  | 4     |\n",
    "| Ali     | 17  | 199   |\n",
    "| Abeer   | 34  | 260   |\n",
    "| Muhamad | 40  | 15    |\n"
   ]
  },
  {
   "cell_type": "code",
   "execution_count": 1,
   "metadata": {
    "pycharm": {
     "is_executing": false
    }
   },
   "outputs": [
    {
     "name": "stdout",
     "text": [
      "Faris Hijazi s201578750\nCOE 449: Privacy Enhancing Technologies - Assignment 1: K-anonynmization\n"
     ],
     "output_type": "stream"
    }
   ],
   "source": [
    "import pandas as pd\n",
    "from k_anon import *\n",
    "import time\n",
    "import os\n",
    "from typing import List\n",
    "\n",
    "print(\n",
    "    \"Faris Hijazi s201578750\"\n",
    "    \"\\nCOE 449: Privacy Enhancing Technologies - Assignment 1: K-anonynmization\"\n",
    ")\n",
    "\n",
    "dataset = pd.read_csv('./dataset/ipums.csv')\n",
    "# print(dataset.head())\n",
    "\n",
    "QIs = [\"Age\", \"Gender\", \"Marital status\",\n",
    "       \"Race status\", \"Birth\", \"Language\", \"Occupation\"]"
   ]
  },
  {
   "cell_type": "code",
   "execution_count": 2,
   "metadata": {
    "pycharm": {
     "is_executing": false
    }
   },
   "outputs": [
    {
     "name": "stdout",
     "text": [
      "      Name  Age  Birth\n0    Ahmed   28    110\n1    Fatma   44      4\n2      Ali   17    199\n3    Abeer   34    260\n4  Muhamad   40     15\n"
     ],
     "output_type": "stream"
    }
   ],
   "source": [
    "# importing the secondary table data (the small table for the attack)\n",
    "\n",
    "# attack_table (\"at\" for short)\n",
    "at = pd.read_csv('./dataset/attack_table.csv')\n",
    "print(at.head())"
   ]
  },
  {
   "cell_type": "code",
   "execution_count": 3,
   "metadata": {
    "pycharm": {
     "is_executing": false
    }
   },
   "outputs": [
    {
     "name": "stdout",
     "text": [
      "dataset columns ['Age', 'Gender', 'Marital status', 'Race status', 'Birth', 'Language', 'Occupation', 'Income (K)']\nattack table columns ['Name', 'Age', 'Birth']\nintersection:  ['Birth', 'Age']\n"
     ],
     "output_type": "stream"
    }
   ],
   "source": [
    "print('dataset columns', list(dataset.columns))\n",
    "print('attack table columns', list(at.columns))\n",
    "intersection = list(set(dataset.columns).intersection(at.columns))\n",
    "print('intersection: ', intersection)"
   ]
  },
  {
   "cell_type": "markdown",
   "metadata": {},
   "source": [
    "We can see here that the only overlapping features are 'Birth' and 'Age'.\n",
    "\n",
    "Now let's merge the tables on these values:"
   ]
  },
  {
   "cell_type": "code",
   "execution_count": 4,
   "metadata": {
    "pycharm": {
     "is_executing": false
    },
    "scrolled": true
   },
   "outputs": [
    {
     "data": {
      "text/plain": "    Age  Gender  Marital status  Race status  Birth  Language  Occupation  \\\n0    28       1               1            7    110        12           8   \n1    44       2               4            1      4         1           8   \n2    44       2               1            1      4         1           8   \n3    44       1               6            1      4         1           6   \n4    44       2               1            1      4        12           8   \n5    44       2               1            1      4         1           7   \n6    44       2               1            1      4         1          10   \n7    44       2               4            1      4        12           7   \n8    44       2               4            1      4         1           6   \n9    44       2               1            7      4         1           6   \n10   44       1               1            1      4         1          10   \n11   44       2               1            3      4        75           8   \n12   44       1               1            1      4         1           8   \n13   44       1               1            1      4         1           7   \n14   44       1               1            7      4        12           5   \n15   44       1               1            1      4         1           8   \n16   44       2               2            6      4         1           8   \n17   44       2               6            2      4         1           8   \n18   44       1               1            1      4         1           6   \n19   44       1               1            1      4         1           8   \n20   44       1               1            7      4        12           6   \n21   44       2               1            7      4        12           3   \n22   44       1               4            1      4         1           6   \n23   44       2               1            1      4         1          10   \n24   44       2               1            1      4         1           8   \n25   17       1               6            2    199        12           4   \n26   40       2               1            5     15        48          10   \n27   40       1               1            9     15         1           8   \n28   40       1               1            1     15         1           6   \n29   40       2               1            1     15         1           7   \n30   40       1               4            1     15         1           6   \n31   34       2               2            2    260         1           8   \n\n    Income (K)     Name  \n0          983    Ahmed  \n1           16    Fatma  \n2          234    Fatma  \n3          651    Fatma  \n4          460    Fatma  \n5          200    Fatma  \n6          231    Fatma  \n7          524    Fatma  \n8          580    Fatma  \n9          962    Fatma  \n10          80    Fatma  \n11         582    Fatma  \n12         623    Fatma  \n13         701    Fatma  \n14         425    Fatma  \n15         721    Fatma  \n16         200    Fatma  \n17          12    Fatma  \n18         860    Fatma  \n19          40    Fatma  \n20         895    Fatma  \n21         775    Fatma  \n22         913    Fatma  \n23         593    Fatma  \n24         291    Fatma  \n25         562      Ali  \n26         524  Muhamad  \n27         983  Muhamad  \n28         470  Muhamad  \n29         470  Muhamad  \n30         531  Muhamad  \n31         536    Abeer  ",
      "text/html": "<div>\n<style scoped>\n    .dataframe tbody tr th:only-of-type {\n        vertical-align: middle;\n    }\n\n    .dataframe tbody tr th {\n        vertical-align: top;\n    }\n\n    .dataframe thead th {\n        text-align: right;\n    }\n</style>\n<table border=\"1\" class=\"dataframe\">\n  <thead>\n    <tr style=\"text-align: right;\">\n      <th></th>\n      <th>Age</th>\n      <th>Gender</th>\n      <th>Marital status</th>\n      <th>Race status</th>\n      <th>Birth</th>\n      <th>Language</th>\n      <th>Occupation</th>\n      <th>Income (K)</th>\n      <th>Name</th>\n    </tr>\n  </thead>\n  <tbody>\n    <tr>\n      <th>0</th>\n      <td>28</td>\n      <td>1</td>\n      <td>1</td>\n      <td>7</td>\n      <td>110</td>\n      <td>12</td>\n      <td>8</td>\n      <td>983</td>\n      <td>Ahmed</td>\n    </tr>\n    <tr>\n      <th>1</th>\n      <td>44</td>\n      <td>2</td>\n      <td>4</td>\n      <td>1</td>\n      <td>4</td>\n      <td>1</td>\n      <td>8</td>\n      <td>16</td>\n      <td>Fatma</td>\n    </tr>\n    <tr>\n      <th>2</th>\n      <td>44</td>\n      <td>2</td>\n      <td>1</td>\n      <td>1</td>\n      <td>4</td>\n      <td>1</td>\n      <td>8</td>\n      <td>234</td>\n      <td>Fatma</td>\n    </tr>\n    <tr>\n      <th>3</th>\n      <td>44</td>\n      <td>1</td>\n      <td>6</td>\n      <td>1</td>\n      <td>4</td>\n      <td>1</td>\n      <td>6</td>\n      <td>651</td>\n      <td>Fatma</td>\n    </tr>\n    <tr>\n      <th>4</th>\n      <td>44</td>\n      <td>2</td>\n      <td>1</td>\n      <td>1</td>\n      <td>4</td>\n      <td>12</td>\n      <td>8</td>\n      <td>460</td>\n      <td>Fatma</td>\n    </tr>\n    <tr>\n      <th>5</th>\n      <td>44</td>\n      <td>2</td>\n      <td>1</td>\n      <td>1</td>\n      <td>4</td>\n      <td>1</td>\n      <td>7</td>\n      <td>200</td>\n      <td>Fatma</td>\n    </tr>\n    <tr>\n      <th>6</th>\n      <td>44</td>\n      <td>2</td>\n      <td>1</td>\n      <td>1</td>\n      <td>4</td>\n      <td>1</td>\n      <td>10</td>\n      <td>231</td>\n      <td>Fatma</td>\n    </tr>\n    <tr>\n      <th>7</th>\n      <td>44</td>\n      <td>2</td>\n      <td>4</td>\n      <td>1</td>\n      <td>4</td>\n      <td>12</td>\n      <td>7</td>\n      <td>524</td>\n      <td>Fatma</td>\n    </tr>\n    <tr>\n      <th>8</th>\n      <td>44</td>\n      <td>2</td>\n      <td>4</td>\n      <td>1</td>\n      <td>4</td>\n      <td>1</td>\n      <td>6</td>\n      <td>580</td>\n      <td>Fatma</td>\n    </tr>\n    <tr>\n      <th>9</th>\n      <td>44</td>\n      <td>2</td>\n      <td>1</td>\n      <td>7</td>\n      <td>4</td>\n      <td>1</td>\n      <td>6</td>\n      <td>962</td>\n      <td>Fatma</td>\n    </tr>\n    <tr>\n      <th>10</th>\n      <td>44</td>\n      <td>1</td>\n      <td>1</td>\n      <td>1</td>\n      <td>4</td>\n      <td>1</td>\n      <td>10</td>\n      <td>80</td>\n      <td>Fatma</td>\n    </tr>\n    <tr>\n      <th>11</th>\n      <td>44</td>\n      <td>2</td>\n      <td>1</td>\n      <td>3</td>\n      <td>4</td>\n      <td>75</td>\n      <td>8</td>\n      <td>582</td>\n      <td>Fatma</td>\n    </tr>\n    <tr>\n      <th>12</th>\n      <td>44</td>\n      <td>1</td>\n      <td>1</td>\n      <td>1</td>\n      <td>4</td>\n      <td>1</td>\n      <td>8</td>\n      <td>623</td>\n      <td>Fatma</td>\n    </tr>\n    <tr>\n      <th>13</th>\n      <td>44</td>\n      <td>1</td>\n      <td>1</td>\n      <td>1</td>\n      <td>4</td>\n      <td>1</td>\n      <td>7</td>\n      <td>701</td>\n      <td>Fatma</td>\n    </tr>\n    <tr>\n      <th>14</th>\n      <td>44</td>\n      <td>1</td>\n      <td>1</td>\n      <td>7</td>\n      <td>4</td>\n      <td>12</td>\n      <td>5</td>\n      <td>425</td>\n      <td>Fatma</td>\n    </tr>\n    <tr>\n      <th>15</th>\n      <td>44</td>\n      <td>1</td>\n      <td>1</td>\n      <td>1</td>\n      <td>4</td>\n      <td>1</td>\n      <td>8</td>\n      <td>721</td>\n      <td>Fatma</td>\n    </tr>\n    <tr>\n      <th>16</th>\n      <td>44</td>\n      <td>2</td>\n      <td>2</td>\n      <td>6</td>\n      <td>4</td>\n      <td>1</td>\n      <td>8</td>\n      <td>200</td>\n      <td>Fatma</td>\n    </tr>\n    <tr>\n      <th>17</th>\n      <td>44</td>\n      <td>2</td>\n      <td>6</td>\n      <td>2</td>\n      <td>4</td>\n      <td>1</td>\n      <td>8</td>\n      <td>12</td>\n      <td>Fatma</td>\n    </tr>\n    <tr>\n      <th>18</th>\n      <td>44</td>\n      <td>1</td>\n      <td>1</td>\n      <td>1</td>\n      <td>4</td>\n      <td>1</td>\n      <td>6</td>\n      <td>860</td>\n      <td>Fatma</td>\n    </tr>\n    <tr>\n      <th>19</th>\n      <td>44</td>\n      <td>1</td>\n      <td>1</td>\n      <td>1</td>\n      <td>4</td>\n      <td>1</td>\n      <td>8</td>\n      <td>40</td>\n      <td>Fatma</td>\n    </tr>\n    <tr>\n      <th>20</th>\n      <td>44</td>\n      <td>1</td>\n      <td>1</td>\n      <td>7</td>\n      <td>4</td>\n      <td>12</td>\n      <td>6</td>\n      <td>895</td>\n      <td>Fatma</td>\n    </tr>\n    <tr>\n      <th>21</th>\n      <td>44</td>\n      <td>2</td>\n      <td>1</td>\n      <td>7</td>\n      <td>4</td>\n      <td>12</td>\n      <td>3</td>\n      <td>775</td>\n      <td>Fatma</td>\n    </tr>\n    <tr>\n      <th>22</th>\n      <td>44</td>\n      <td>1</td>\n      <td>4</td>\n      <td>1</td>\n      <td>4</td>\n      <td>1</td>\n      <td>6</td>\n      <td>913</td>\n      <td>Fatma</td>\n    </tr>\n    <tr>\n      <th>23</th>\n      <td>44</td>\n      <td>2</td>\n      <td>1</td>\n      <td>1</td>\n      <td>4</td>\n      <td>1</td>\n      <td>10</td>\n      <td>593</td>\n      <td>Fatma</td>\n    </tr>\n    <tr>\n      <th>24</th>\n      <td>44</td>\n      <td>2</td>\n      <td>1</td>\n      <td>1</td>\n      <td>4</td>\n      <td>1</td>\n      <td>8</td>\n      <td>291</td>\n      <td>Fatma</td>\n    </tr>\n    <tr>\n      <th>25</th>\n      <td>17</td>\n      <td>1</td>\n      <td>6</td>\n      <td>2</td>\n      <td>199</td>\n      <td>12</td>\n      <td>4</td>\n      <td>562</td>\n      <td>Ali</td>\n    </tr>\n    <tr>\n      <th>26</th>\n      <td>40</td>\n      <td>2</td>\n      <td>1</td>\n      <td>5</td>\n      <td>15</td>\n      <td>48</td>\n      <td>10</td>\n      <td>524</td>\n      <td>Muhamad</td>\n    </tr>\n    <tr>\n      <th>27</th>\n      <td>40</td>\n      <td>1</td>\n      <td>1</td>\n      <td>9</td>\n      <td>15</td>\n      <td>1</td>\n      <td>8</td>\n      <td>983</td>\n      <td>Muhamad</td>\n    </tr>\n    <tr>\n      <th>28</th>\n      <td>40</td>\n      <td>1</td>\n      <td>1</td>\n      <td>1</td>\n      <td>15</td>\n      <td>1</td>\n      <td>6</td>\n      <td>470</td>\n      <td>Muhamad</td>\n    </tr>\n    <tr>\n      <th>29</th>\n      <td>40</td>\n      <td>2</td>\n      <td>1</td>\n      <td>1</td>\n      <td>15</td>\n      <td>1</td>\n      <td>7</td>\n      <td>470</td>\n      <td>Muhamad</td>\n    </tr>\n    <tr>\n      <th>30</th>\n      <td>40</td>\n      <td>1</td>\n      <td>4</td>\n      <td>1</td>\n      <td>15</td>\n      <td>1</td>\n      <td>6</td>\n      <td>531</td>\n      <td>Muhamad</td>\n    </tr>\n    <tr>\n      <th>31</th>\n      <td>34</td>\n      <td>2</td>\n      <td>2</td>\n      <td>2</td>\n      <td>260</td>\n      <td>1</td>\n      <td>8</td>\n      <td>536</td>\n      <td>Abeer</td>\n    </tr>\n  </tbody>\n</table>\n</div>"
     },
     "metadata": {},
     "output_type": "execute_result",
     "execution_count": 4
    }
   ],
   "source": [
    "df_linked = pd.merge(dataset, at, on=intersection)\n",
    "df_linked"
   ]
  },
  {
   "cell_type": "code",
   "execution_count": 5,
   "metadata": {
    "pycharm": {
     "is_executing": false
    },
    "scrolled": true
   },
   "outputs": [
    {
     "data": {
      "text/plain": "    Age  Gender  Marital status  Race status  Birth  Language  Occupation  \\\n0    28       1               1            7    110        12           8   \n25   17       1               6            2    199        12           4   \n31   34       2               2            2    260         1           8   \n\n    Income (K)   Name  \n0          983  Ahmed  \n25         562    Ali  \n31         536  Abeer  ",
      "text/html": "<div>\n<style scoped>\n    .dataframe tbody tr th:only-of-type {\n        vertical-align: middle;\n    }\n\n    .dataframe tbody tr th {\n        vertical-align: top;\n    }\n\n    .dataframe thead th {\n        text-align: right;\n    }\n</style>\n<table border=\"1\" class=\"dataframe\">\n  <thead>\n    <tr style=\"text-align: right;\">\n      <th></th>\n      <th>Age</th>\n      <th>Gender</th>\n      <th>Marital status</th>\n      <th>Race status</th>\n      <th>Birth</th>\n      <th>Language</th>\n      <th>Occupation</th>\n      <th>Income (K)</th>\n      <th>Name</th>\n    </tr>\n  </thead>\n  <tbody>\n    <tr>\n      <th>0</th>\n      <td>28</td>\n      <td>1</td>\n      <td>1</td>\n      <td>7</td>\n      <td>110</td>\n      <td>12</td>\n      <td>8</td>\n      <td>983</td>\n      <td>Ahmed</td>\n    </tr>\n    <tr>\n      <th>25</th>\n      <td>17</td>\n      <td>1</td>\n      <td>6</td>\n      <td>2</td>\n      <td>199</td>\n      <td>12</td>\n      <td>4</td>\n      <td>562</td>\n      <td>Ali</td>\n    </tr>\n    <tr>\n      <th>31</th>\n      <td>34</td>\n      <td>2</td>\n      <td>2</td>\n      <td>2</td>\n      <td>260</td>\n      <td>1</td>\n      <td>8</td>\n      <td>536</td>\n      <td>Abeer</td>\n    </tr>\n  </tbody>\n</table>\n</div>"
     },
     "metadata": {},
     "output_type": "execute_result",
     "execution_count": 5
    }
   ],
   "source": [
    "# removing duplicates (Fatma and Muhamad)\n",
    "df_linked_no_dups = df_linked[~df_linked.duplicated('Name', keep=False)]\n",
    "df_linked_no_dups"
   ]
  },
  {
   "cell_type": "code",
   "execution_count": 6,
   "metadata": {
    "pycharm": {
     "is_executing": false
    }
   },
   "outputs": [
    {
     "data": {
      "text/plain": "5.0"
     },
     "metadata": {},
     "output_type": "execute_result",
     "execution_count": 6
    }
   ],
   "source": [
    "df_linked['Name'].apply(pd.value_counts)['Ahmed'][0]"
   ]
  },
  {
   "cell_type": "code",
   "execution_count": 7,
   "metadata": {
    "pycharm": {
     "is_executing": false
    },
    "scrolled": true
   },
   "outputs": [
    {
     "data": {
      "text/plain": "    Income (K)   Name\n0          983  Ahmed\n25         562    Ali\n31         536  Abeer",
      "text/html": "<div>\n<style scoped>\n    .dataframe tbody tr th:only-of-type {\n        vertical-align: middle;\n    }\n\n    .dataframe tbody tr th {\n        vertical-align: top;\n    }\n\n    .dataframe thead th {\n        text-align: right;\n    }\n</style>\n<table border=\"1\" class=\"dataframe\">\n  <thead>\n    <tr style=\"text-align: right;\">\n      <th></th>\n      <th>Income (K)</th>\n      <th>Name</th>\n    </tr>\n  </thead>\n  <tbody>\n    <tr>\n      <th>0</th>\n      <td>983</td>\n      <td>Ahmed</td>\n    </tr>\n    <tr>\n      <th>25</th>\n      <td>562</td>\n      <td>Ali</td>\n    </tr>\n    <tr>\n      <th>31</th>\n      <td>536</td>\n      <td>Abeer</td>\n    </tr>\n  </tbody>\n</table>\n</div>"
     },
     "metadata": {},
     "output_type": "execute_result",
     "execution_count": 7
    }
   ],
   "source": [
    "df_linked_no_dups[['Income (K)', 'Name']]"
   ]
  },
  {
   "cell_type": "markdown",
   "metadata": {},
   "source": [
    "As can be seen above, we can know for certain some of the annual salary but not all of them.\n",
    "\n",
    "For example, there are many \"Fatma\"s with Birth place \"4\" and age 44, so we can't be sure.\n",
    "\n",
    "But we can be sure about the rest"
   ]
  },
  {
   "cell_type": "markdown",
   "metadata": {},
   "source": [
    "### Task2: K-anonymization Implementation (30 pts)\n",
    "\n",
    "Implement Mondrian, the k-anonymization algorithm that we dis-\n",
    "cussed in the class using your preferred programming language.\n",
    "The sensitive attribute is Income, while the remaining attributes\n",
    "are QIs.\n",
    "\n",
    "The steps of the algorithm is shown in Figure 1.\n"
   ]
  },
  {
   "cell_type": "markdown",
   "metadata": {},
   "source": [
    "The bellow code will anonymize the tables for all different K values, if the tables already exist in the 'saved_tables' folder, it will just load them (to save time). It takes about 30 seconds for each table to be anonymized.\n",
    "\n",
    "NOTE: to force anonymizing the tables anew (not loading from folder), then set `force_anon = True` (or just delete the tables in that folder)."
   ]
  },
  {
   "cell_type": "code",
   "execution_count": 8,
   "metadata": {
    "pycharm": {
     "is_executing": false,
     "name": "#%%\n"
    }
   },
   "outputs": [],
   "source": [
    "# finding anonymized tables for the following k values:\n",
    "Ks = [3, 5, 7, 9, 11]\n",
    "anonymized_dict = {} # dictionary {k: k_anon_table}\n",
    "force_anon = False\n",
    "if not os.path.isdir('./saved_tables/'):\n",
    "    os.mkdir('./saved_tables/')"
   ]
  },
  {
   "cell_type": "code",
   "execution_count": 9,
   "metadata": {
    "pycharm": {
     "is_executing": false,
     "name": "#%%\n"
    },
    "scrolled": false
   },
   "outputs": [
    {
     "name": "stdout",
     "text": [
      "(1/5) Anonymized table k=3 EC count: 119\n\ttime: 0.039seconds",
      "\n",
      "(2/5) Anonymized table k=5 EC count: 114\n\ttime: 0.039seconds\n(3/5) Anonymized table k=7 EC count: 108\n\ttime: 0.0366seconds\n(4/5) Anonymized table k=9 EC count: 105\n\ttime: 0.042seconds\n(5/5) Anonymized table k=11 EC count: 101\n\ttime: 0.044seconds\n"
     ],
     "output_type": "stream"
    }
   ],
   "source": [
    "# anonymize and save the tables\n",
    "for i, k in enumerate(Ks, start=1):\n",
    "    start_time = time.time()\n",
    "    file_path = \"./saved_tables/anonymized_k_{}.csv\".format(k)\n",
    "    \n",
    "    if not force_anon and os.path.isfile(file_path): # if the tables already exist, just load them\n",
    "        df_anon = pd.read_csv(file_path)\n",
    "    else:\n",
    "        df_anon = mondrian(dataset, k=k, QIs=QIs)\n",
    "        df_anon.to_csv(file_path) # save the table in a file\n",
    "    \n",
    "    anonymized_dict[k] = df_anon\n",
    "    print(\"({}/{}) Anonymized table k={} EC count: {}\"\n",
    "          \"\\n\\ttime: {:.3}seconds\".format(\n",
    "              i, len(Ks), #progress\n",
    "              k, # k\n",
    "              df_anon['ec'].nunique(),\n",
    "              time.time() - start_time,\n",
    "  ))\n",
    "    \n",
    "    \n",
    "#     print(df_anon.head())"
   ]
  },
  {
   "cell_type": "markdown",
   "metadata": {},
   "source": [
    "#### Displaying sample equivalency classes\n",
    "\n",
    "Proof that the algorithm works. The bellow displays a single equivalency cl"
   ]
  },
  {
   "cell_type": "code",
   "execution_count": 10,
   "metadata": {
    "pycharm": {
     "is_executing": false
    }
   },
   "outputs": [
    {
     "name": "stdout",
     "text": [
      "for k=",
      " 3\n",
      "for k=",
      " 5\n",
      "for k= 7\n",
      "for k= 9\n",
      "for k= 11\n"
     ],
     "output_type": "stream"
    },
    {
     "data": {
      "text/plain": "   Unnamed: 0            Age Gender Marital status  Race status  \\\n0       16280  [\"40\" - \"53\"]      2              6  [\"2\" - \"8\"]   \n1       15633  [\"40\" - \"53\"]      2              6  [\"2\" - \"8\"]   \n2       16484  [\"40\" - \"53\"]      2              6  [\"2\" - \"8\"]   \n\n             Birth       Language    Occupation  Income (K)   ec  \n0  [\"200\" - \"521\"]  [\"12\" - \"74\"]  [\"6\" - \"10\"]         200  237  \n1  [\"200\" - \"521\"]  [\"12\" - \"74\"]  [\"6\" - \"10\"]         920  237  \n2  [\"200\" - \"521\"]  [\"12\" - \"74\"]  [\"6\" - \"10\"]         360  237  ",
      "text/html": "<div>\n<style scoped>\n    .dataframe tbody tr th:only-of-type {\n        vertical-align: middle;\n    }\n\n    .dataframe tbody tr th {\n        vertical-align: top;\n    }\n\n    .dataframe thead th {\n        text-align: right;\n    }\n</style>\n<table border=\"1\" class=\"dataframe\">\n  <thead>\n    <tr style=\"text-align: right;\">\n      <th></th>\n      <th>Unnamed: 0</th>\n      <th>Age</th>\n      <th>Gender</th>\n      <th>Marital status</th>\n      <th>Race status</th>\n      <th>Birth</th>\n      <th>Language</th>\n      <th>Occupation</th>\n      <th>Income (K)</th>\n      <th>ec</th>\n    </tr>\n  </thead>\n  <tbody>\n    <tr>\n      <th>0</th>\n      <td>16280</td>\n      <td>[\"40\" - \"53\"]</td>\n      <td>2</td>\n      <td>6</td>\n      <td>[\"2\" - \"8\"]</td>\n      <td>[\"200\" - \"521\"]</td>\n      <td>[\"12\" - \"74\"]</td>\n      <td>[\"6\" - \"10\"]</td>\n      <td>200</td>\n      <td>237</td>\n    </tr>\n    <tr>\n      <th>1</th>\n      <td>15633</td>\n      <td>[\"40\" - \"53\"]</td>\n      <td>2</td>\n      <td>6</td>\n      <td>[\"2\" - \"8\"]</td>\n      <td>[\"200\" - \"521\"]</td>\n      <td>[\"12\" - \"74\"]</td>\n      <td>[\"6\" - \"10\"]</td>\n      <td>920</td>\n      <td>237</td>\n    </tr>\n    <tr>\n      <th>2</th>\n      <td>16484</td>\n      <td>[\"40\" - \"53\"]</td>\n      <td>2</td>\n      <td>6</td>\n      <td>[\"2\" - \"8\"]</td>\n      <td>[\"200\" - \"521\"]</td>\n      <td>[\"12\" - \"74\"]</td>\n      <td>[\"6\" - \"10\"]</td>\n      <td>360</td>\n      <td>237</td>\n    </tr>\n  </tbody>\n</table>\n</div>"
     },
     "metadata": {},
     "output_type": "display_data"
    },
    {
     "data": {
      "text/plain": "   Unnamed: 0 Age Gender Marital status  Race status            Birth  \\\n0       15631  21      2              6  [\"2\" - \"8\"]  [\"200\" - \"521\"]   \n1       15633  51      2              6  [\"2\" - \"8\"]  [\"200\" - \"521\"]   \n2       16280  40      2              6  [\"2\" - \"8\"]  [\"200\" - \"521\"]   \n3       12126  37      2              6  [\"2\" - \"8\"]  [\"200\" - \"521\"]   \n4       13915  23      2              6  [\"2\" - \"8\"]  [\"200\" - \"521\"]   \n\n        Language    Occupation  Income (K)   ec  \n0  [\"12\" - \"74\"]  [\"6\" - \"10\"]         360  582  \n1  [\"12\" - \"74\"]  [\"6\" - \"10\"]         920  582  \n2  [\"12\" - \"74\"]  [\"6\" - \"10\"]         200  582  \n3  [\"12\" - \"74\"]  [\"6\" - \"10\"]         451  582  \n4  [\"12\" - \"74\"]  [\"6\" - \"10\"]         524  582  ",
      "text/html": "<div>\n<style scoped>\n    .dataframe tbody tr th:only-of-type {\n        vertical-align: middle;\n    }\n\n    .dataframe tbody tr th {\n        vertical-align: top;\n    }\n\n    .dataframe thead th {\n        text-align: right;\n    }\n</style>\n<table border=\"1\" class=\"dataframe\">\n  <thead>\n    <tr style=\"text-align: right;\">\n      <th></th>\n      <th>Unnamed: 0</th>\n      <th>Age</th>\n      <th>Gender</th>\n      <th>Marital status</th>\n      <th>Race status</th>\n      <th>Birth</th>\n      <th>Language</th>\n      <th>Occupation</th>\n      <th>Income (K)</th>\n      <th>ec</th>\n    </tr>\n  </thead>\n  <tbody>\n    <tr>\n      <th>0</th>\n      <td>15631</td>\n      <td>21</td>\n      <td>2</td>\n      <td>6</td>\n      <td>[\"2\" - \"8\"]</td>\n      <td>[\"200\" - \"521\"]</td>\n      <td>[\"12\" - \"74\"]</td>\n      <td>[\"6\" - \"10\"]</td>\n      <td>360</td>\n      <td>582</td>\n    </tr>\n    <tr>\n      <th>1</th>\n      <td>15633</td>\n      <td>51</td>\n      <td>2</td>\n      <td>6</td>\n      <td>[\"2\" - \"8\"]</td>\n      <td>[\"200\" - \"521\"]</td>\n      <td>[\"12\" - \"74\"]</td>\n      <td>[\"6\" - \"10\"]</td>\n      <td>920</td>\n      <td>582</td>\n    </tr>\n    <tr>\n      <th>2</th>\n      <td>16280</td>\n      <td>40</td>\n      <td>2</td>\n      <td>6</td>\n      <td>[\"2\" - \"8\"]</td>\n      <td>[\"200\" - \"521\"]</td>\n      <td>[\"12\" - \"74\"]</td>\n      <td>[\"6\" - \"10\"]</td>\n      <td>200</td>\n      <td>582</td>\n    </tr>\n    <tr>\n      <th>3</th>\n      <td>12126</td>\n      <td>37</td>\n      <td>2</td>\n      <td>6</td>\n      <td>[\"2\" - \"8\"]</td>\n      <td>[\"200\" - \"521\"]</td>\n      <td>[\"12\" - \"74\"]</td>\n      <td>[\"6\" - \"10\"]</td>\n      <td>451</td>\n      <td>582</td>\n    </tr>\n    <tr>\n      <th>4</th>\n      <td>13915</td>\n      <td>23</td>\n      <td>2</td>\n      <td>6</td>\n      <td>[\"2\" - \"8\"]</td>\n      <td>[\"200\" - \"521\"]</td>\n      <td>[\"12\" - \"74\"]</td>\n      <td>[\"6\" - \"10\"]</td>\n      <td>524</td>\n      <td>582</td>\n    </tr>\n  </tbody>\n</table>\n</div>"
     },
     "metadata": {},
     "output_type": "display_data"
    },
    {
     "data": {
      "text/plain": "   Unnamed: 0 Age Gender Marital status  Race status            Birth  \\\n0       15631  21      2              6  [\"2\" - \"8\"]  [\"200\" - \"521\"]   \n1       15633  51      2              6  [\"2\" - \"8\"]  [\"200\" - \"521\"]   \n2       16280  40      2              6  [\"2\" - \"8\"]  [\"200\" - \"521\"]   \n3       12126  37      2              6  [\"2\" - \"8\"]  [\"200\" - \"521\"]   \n4       13915  23      2              6  [\"2\" - \"8\"]  [\"200\" - \"521\"]   \n\n        Language    Occupation  Income (K)   ec  \n0  [\"12\" - \"74\"]  [\"6\" - \"10\"]         360  910  \n1  [\"12\" - \"74\"]  [\"6\" - \"10\"]         920  910  \n2  [\"12\" - \"74\"]  [\"6\" - \"10\"]         200  910  \n3  [\"12\" - \"74\"]  [\"6\" - \"10\"]         451  910  \n4  [\"12\" - \"74\"]  [\"6\" - \"10\"]         524  910  ",
      "text/html": "<div>\n<style scoped>\n    .dataframe tbody tr th:only-of-type {\n        vertical-align: middle;\n    }\n\n    .dataframe tbody tr th {\n        vertical-align: top;\n    }\n\n    .dataframe thead th {\n        text-align: right;\n    }\n</style>\n<table border=\"1\" class=\"dataframe\">\n  <thead>\n    <tr style=\"text-align: right;\">\n      <th></th>\n      <th>Unnamed: 0</th>\n      <th>Age</th>\n      <th>Gender</th>\n      <th>Marital status</th>\n      <th>Race status</th>\n      <th>Birth</th>\n      <th>Language</th>\n      <th>Occupation</th>\n      <th>Income (K)</th>\n      <th>ec</th>\n    </tr>\n  </thead>\n  <tbody>\n    <tr>\n      <th>0</th>\n      <td>15631</td>\n      <td>21</td>\n      <td>2</td>\n      <td>6</td>\n      <td>[\"2\" - \"8\"]</td>\n      <td>[\"200\" - \"521\"]</td>\n      <td>[\"12\" - \"74\"]</td>\n      <td>[\"6\" - \"10\"]</td>\n      <td>360</td>\n      <td>910</td>\n    </tr>\n    <tr>\n      <th>1</th>\n      <td>15633</td>\n      <td>51</td>\n      <td>2</td>\n      <td>6</td>\n      <td>[\"2\" - \"8\"]</td>\n      <td>[\"200\" - \"521\"]</td>\n      <td>[\"12\" - \"74\"]</td>\n      <td>[\"6\" - \"10\"]</td>\n      <td>920</td>\n      <td>910</td>\n    </tr>\n    <tr>\n      <th>2</th>\n      <td>16280</td>\n      <td>40</td>\n      <td>2</td>\n      <td>6</td>\n      <td>[\"2\" - \"8\"]</td>\n      <td>[\"200\" - \"521\"]</td>\n      <td>[\"12\" - \"74\"]</td>\n      <td>[\"6\" - \"10\"]</td>\n      <td>200</td>\n      <td>910</td>\n    </tr>\n    <tr>\n      <th>3</th>\n      <td>12126</td>\n      <td>37</td>\n      <td>2</td>\n      <td>6</td>\n      <td>[\"2\" - \"8\"]</td>\n      <td>[\"200\" - \"521\"]</td>\n      <td>[\"12\" - \"74\"]</td>\n      <td>[\"6\" - \"10\"]</td>\n      <td>451</td>\n      <td>910</td>\n    </tr>\n    <tr>\n      <th>4</th>\n      <td>13915</td>\n      <td>23</td>\n      <td>2</td>\n      <td>6</td>\n      <td>[\"2\" - \"8\"]</td>\n      <td>[\"200\" - \"521\"]</td>\n      <td>[\"12\" - \"74\"]</td>\n      <td>[\"6\" - \"10\"]</td>\n      <td>524</td>\n      <td>910</td>\n    </tr>\n  </tbody>\n</table>\n</div>"
     },
     "metadata": {},
     "output_type": "display_data"
    },
    {
     "data": {
      "text/plain": "   Unnamed: 0 Age Gender Marital status  Race status Birth       Language  \\\n0       15477  25      2              6  [\"2\" - \"8\"]   200  [\"12\" - \"74\"]   \n1       15648  18      2              6  [\"2\" - \"8\"]     4  [\"12\" - \"74\"]   \n2       16317  18      2              6  [\"2\" - \"8\"]     4  [\"12\" - \"74\"]   \n3       16280  40      2              6  [\"2\" - \"8\"]   260  [\"12\" - \"74\"]   \n4       15631  21      2              6  [\"2\" - \"8\"]   200  [\"12\" - \"74\"]   \n\n     Occupation  Income (K)    ec  \n0  [\"6\" - \"10\"]         411  1226  \n1  [\"6\" - \"10\"]         411  1226  \n2  [\"6\" - \"10\"]         460  1226  \n3  [\"6\" - \"10\"]         200  1226  \n4  [\"6\" - \"10\"]         360  1226  ",
      "text/html": "<div>\n<style scoped>\n    .dataframe tbody tr th:only-of-type {\n        vertical-align: middle;\n    }\n\n    .dataframe tbody tr th {\n        vertical-align: top;\n    }\n\n    .dataframe thead th {\n        text-align: right;\n    }\n</style>\n<table border=\"1\" class=\"dataframe\">\n  <thead>\n    <tr style=\"text-align: right;\">\n      <th></th>\n      <th>Unnamed: 0</th>\n      <th>Age</th>\n      <th>Gender</th>\n      <th>Marital status</th>\n      <th>Race status</th>\n      <th>Birth</th>\n      <th>Language</th>\n      <th>Occupation</th>\n      <th>Income (K)</th>\n      <th>ec</th>\n    </tr>\n  </thead>\n  <tbody>\n    <tr>\n      <th>0</th>\n      <td>15477</td>\n      <td>25</td>\n      <td>2</td>\n      <td>6</td>\n      <td>[\"2\" - \"8\"]</td>\n      <td>200</td>\n      <td>[\"12\" - \"74\"]</td>\n      <td>[\"6\" - \"10\"]</td>\n      <td>411</td>\n      <td>1226</td>\n    </tr>\n    <tr>\n      <th>1</th>\n      <td>15648</td>\n      <td>18</td>\n      <td>2</td>\n      <td>6</td>\n      <td>[\"2\" - \"8\"]</td>\n      <td>4</td>\n      <td>[\"12\" - \"74\"]</td>\n      <td>[\"6\" - \"10\"]</td>\n      <td>411</td>\n      <td>1226</td>\n    </tr>\n    <tr>\n      <th>2</th>\n      <td>16317</td>\n      <td>18</td>\n      <td>2</td>\n      <td>6</td>\n      <td>[\"2\" - \"8\"]</td>\n      <td>4</td>\n      <td>[\"12\" - \"74\"]</td>\n      <td>[\"6\" - \"10\"]</td>\n      <td>460</td>\n      <td>1226</td>\n    </tr>\n    <tr>\n      <th>3</th>\n      <td>16280</td>\n      <td>40</td>\n      <td>2</td>\n      <td>6</td>\n      <td>[\"2\" - \"8\"]</td>\n      <td>260</td>\n      <td>[\"12\" - \"74\"]</td>\n      <td>[\"6\" - \"10\"]</td>\n      <td>200</td>\n      <td>1226</td>\n    </tr>\n    <tr>\n      <th>4</th>\n      <td>15631</td>\n      <td>21</td>\n      <td>2</td>\n      <td>6</td>\n      <td>[\"2\" - \"8\"]</td>\n      <td>200</td>\n      <td>[\"12\" - \"74\"]</td>\n      <td>[\"6\" - \"10\"]</td>\n      <td>360</td>\n      <td>1226</td>\n    </tr>\n  </tbody>\n</table>\n</div>"
     },
     "metadata": {},
     "output_type": "display_data"
    },
    {
     "data": {
      "text/plain": "   Unnamed: 0 Age Gender Marital status  Race status Birth       Language  \\\n0       15477  25      2              6  [\"2\" - \"8\"]   200  [\"12\" - \"74\"]   \n1       15648  18      2              6  [\"2\" - \"8\"]     4  [\"12\" - \"74\"]   \n2       16317  18      2              6  [\"2\" - \"8\"]     4  [\"12\" - \"74\"]   \n3       16280  40      2              6  [\"2\" - \"8\"]   260  [\"12\" - \"74\"]   \n4       15631  21      2              6  [\"2\" - \"8\"]   200  [\"12\" - \"74\"]   \n\n     Occupation  Income (K)    ec  \n0  [\"6\" - \"10\"]         411  1531  \n1  [\"6\" - \"10\"]         411  1531  \n2  [\"6\" - \"10\"]         460  1531  \n3  [\"6\" - \"10\"]         200  1531  \n4  [\"6\" - \"10\"]         360  1531  ",
      "text/html": "<div>\n<style scoped>\n    .dataframe tbody tr th:only-of-type {\n        vertical-align: middle;\n    }\n\n    .dataframe tbody tr th {\n        vertical-align: top;\n    }\n\n    .dataframe thead th {\n        text-align: right;\n    }\n</style>\n<table border=\"1\" class=\"dataframe\">\n  <thead>\n    <tr style=\"text-align: right;\">\n      <th></th>\n      <th>Unnamed: 0</th>\n      <th>Age</th>\n      <th>Gender</th>\n      <th>Marital status</th>\n      <th>Race status</th>\n      <th>Birth</th>\n      <th>Language</th>\n      <th>Occupation</th>\n      <th>Income (K)</th>\n      <th>ec</th>\n    </tr>\n  </thead>\n  <tbody>\n    <tr>\n      <th>0</th>\n      <td>15477</td>\n      <td>25</td>\n      <td>2</td>\n      <td>6</td>\n      <td>[\"2\" - \"8\"]</td>\n      <td>200</td>\n      <td>[\"12\" - \"74\"]</td>\n      <td>[\"6\" - \"10\"]</td>\n      <td>411</td>\n      <td>1531</td>\n    </tr>\n    <tr>\n      <th>1</th>\n      <td>15648</td>\n      <td>18</td>\n      <td>2</td>\n      <td>6</td>\n      <td>[\"2\" - \"8\"]</td>\n      <td>4</td>\n      <td>[\"12\" - \"74\"]</td>\n      <td>[\"6\" - \"10\"]</td>\n      <td>411</td>\n      <td>1531</td>\n    </tr>\n    <tr>\n      <th>2</th>\n      <td>16317</td>\n      <td>18</td>\n      <td>2</td>\n      <td>6</td>\n      <td>[\"2\" - \"8\"]</td>\n      <td>4</td>\n      <td>[\"12\" - \"74\"]</td>\n      <td>[\"6\" - \"10\"]</td>\n      <td>460</td>\n      <td>1531</td>\n    </tr>\n    <tr>\n      <th>3</th>\n      <td>16280</td>\n      <td>40</td>\n      <td>2</td>\n      <td>6</td>\n      <td>[\"2\" - \"8\"]</td>\n      <td>260</td>\n      <td>[\"12\" - \"74\"]</td>\n      <td>[\"6\" - \"10\"]</td>\n      <td>200</td>\n      <td>1531</td>\n    </tr>\n    <tr>\n      <th>4</th>\n      <td>15631</td>\n      <td>21</td>\n      <td>2</td>\n      <td>6</td>\n      <td>[\"2\" - \"8\"]</td>\n      <td>200</td>\n      <td>[\"12\" - \"74\"]</td>\n      <td>[\"6\" - \"10\"]</td>\n      <td>360</td>\n      <td>1531</td>\n    </tr>\n  </tbody>\n</table>\n</div>"
     },
     "metadata": {},
     "output_type": "display_data"
    }
   ],
   "source": [
    "from IPython.display import display, HTML\n",
    "\n",
    "for k in anonymized_dict:\n",
    "    df = anonymized_dict[k]\n",
    "    ecs = get_ecs(df)\n",
    "    print('for k=', k)\n",
    "    display(ecs[0].head())"
   ]
  },
  {
   "cell_type": "markdown",
   "metadata": {},
   "source": [
    "### Task3: Utility-privacy trade off (30 pts)\n",
    "Using your implementation of Mondrian algorithm, or any avail-\n",
    "able k-anonymization tool, e.g., [1] and [2], find the anonymized\n",
    "table with k=3,5,7,9, and 11.\n",
    "For each anonymized table compute the Discernibility metric CDM,\n",
    "the normalized average equivalence class CAV G, and generalized\n",
    "information loss ILOSS.\n",
    "\n",
    "$$\n",
    "C_{D M}=\\sum_{E \\in E C}|E|^{2}\n",
    "$$\n",
    "\n",
    "Where |E| is the size of equivalence class E, and EC is the set of all equivalence classes \n",
    "\n",
    "$$\n",
    "C_{A V G}=\\left(\\frac{|T|}{|E C|}\\right) / k\n",
    "$$\n",
    "\n",
    "Where |EC| is the number of equivalence classes \n",
    "\n",
    "$$\n",
    "I L O S S=\\frac{1}{|T| \\cdot n} \\sum_{i=1 |}^{n} \\sum_{j=1}^{|T|} \\frac{U_{i j}-L_{i j}}{U_{i}-L_{i}}\n",
    "$$\n",
    "\n",
    "Where 𝑈_𝑖𝑗 and 𝐿_𝑖𝑗 is the upper and lower value of the generalized range of attribute *i* and record *j*,  \n",
    "and 𝑈_𝑖 and 𝐿_𝑖 is the upper and lower value of attribute i\n"
   ]
  },
  {
   "cell_type": "markdown",
   "metadata": {},
   "source": [
    "#### Applying metrics"
   ]
  },
  {
   "cell_type": "code",
   "execution_count": 11,
   "metadata": {
    "pycharm": {
     "is_executing": false
    }
   },
   "outputs": [
    {
     "name": "stdout",
     "text": [
      "duration: 51.8s\n"
     ],
     "output_type": "stream"
    }
   ],
   "source": [
    "from metrics import *\n",
    "import matplotlib.pyplot as plt\n",
    "\n",
    "metrics = ['c_dm', 'c_avg', 'iloss']\n",
    "# dictionary of dictionaries, a dictionary for each metric\n",
    "metric_results = {\n",
    "    'c_dm': {}, # sub-dictionary: {k: metric_result}\n",
    "    'c_avg': {},\n",
    "    'iloss': {}\n",
    "}\n",
    "# metric_results[metric_name][k]\n",
    "\n",
    "start_time = time.time()\n",
    "\n",
    "for k in anonymized_dict:\n",
    "    df = anonymized_dict[k]\n",
    "    ecs = get_ecs(df)\n",
    "    for metric in metrics:\n",
    "        metric_func = eval(metric) # eval string into the function\n",
    "        metric_results[metric][k] = metric_func(df, ecs=ecs, k=k)\n",
    "\n",
    "print('duration: {:.3}s'.format(time.time() - start_time))"
   ]
  },
  {
   "cell_type": "code",
   "execution_count": 12,
   "metadata": {
    "pycharm": {
     "is_executing": false
    }
   },
   "outputs": [
    {
     "data": {
      "text/plain": "{'c_dm': {3: 15940298, 5: 15940418, 7: 15941200, 9: 15941668, 11: 15942266},\n 'c_avg': {3: 56.022408963585434,\n  5: 35.08771929824562,\n  7: 26.455026455026456,\n  9: 21.164021164021165,\n  11: 18.001800180018},\n 'iloss': {3: 0.3241866511005079,\n  5: 0.3241311883326825,\n  7: 0.3240424796642782,\n  9: 0.32400323660140523,\n  11: 0.32389330717430614}}"
     },
     "metadata": {},
     "output_type": "execute_result",
     "execution_count": 12
    }
   ],
   "source": [
    "metric_results"
   ]
  },
  {
   "cell_type": "code",
   "execution_count": 13,
   "metadata": {
    "pycharm": {
     "is_executing": false
    }
   },
   "outputs": [
    {
     "data": {
      "text/plain": "<Figure size 432x288 with 1 Axes>",
      "image/png": "[encoded data removed]"
     },
     "metadata": {
      "needs_background": "light"
     },
     "output_type": "display_data"
    },
    {
     "data": {
      "text/plain": "<Figure size 432x288 with 1 Axes>",
      "image/png": "[encoded data removed]"
     },
     "metadata": {
      "needs_background": "light"
     },
     "output_type": "display_data"
    },
    {
     "data": {
      "text/plain": "<Figure size 432x288 with 1 Axes>",
      "image/png": "[encoded data removed]"
     },
     "metadata": {
      "needs_background": "light"
     },
     "output_type": "display_data"
    }
   ],
   "source": [
    "\n",
    "K = list(anonymized_dict.keys())\n",
    "for metric in metrics:\n",
    "    Y = [metric_results[metric][k] for k in K]\n",
    "    \n",
    "    plt.figure()\n",
    "    plt.xticks = K\n",
    "    plt.xlabel('k')\n",
    "    plt.ylabel(metric)\n",
    "    plt.title(metric + ' vs k')\n",
    "    plt.plot(K, Y, 'go-', label=metric, linewidth=2)"
   ]
  },
  {
   "cell_type": "markdown",
   "metadata": {},
   "source": [
    "Then, draw a figure for each metric against the value of k to depict\n",
    "the privacy trade off.\n",
    "\n",
    "The x-axis should be the value of k, while\n",
    "the y-axis should be the value of the respective utility metric."
   ]
  },
  {
   "cell_type": "markdown",
   "metadata": {},
   "source": [
    "### Task4: L-diversity (20 pts)\n",
    "Using the anonymized table with k = 3 from Task 3, check if\n",
    "the 3-anonymized table is distinct L-diverse and entropy L-diverse\n",
    "for each L = 2 and 5. In the case when the 3-anonymized table\n",
    "violates the L-diversity requirements, print at least one equivalence\n",
    "class that violates the diversity requirement."
   ]
  },
  {
   "cell_type": "code",
   "execution_count": 14,
   "metadata": {
    "pycharm": {
     "is_executing": false
    }
   },
   "outputs": [
    {
     "name": "stdout",
     "text": [
      "is 2-diverse (distinct): True\n",
      "is 2-diverse (entropy): True\nis 5-diverse (distinct): False\nis 5-diverse (entropy): False\n"
     ],
     "output_type": "stream"
    }
   ],
   "source": [
    "table_3 = anonymized_dict[3]\n",
    "ls = [2, 5]\n",
    "ecs = get_ecs(table_3)\n",
    "\n",
    "for l in ls:\n",
    "    print(\"is {}-diverse (distinct):\".format(l), is_l_diverse_distinct(ecs, l=l, sens_attr='Income (K)'))\n",
    "    print(\"is {}-diverse (entropy):\".format(l) , is_l_diverse_entropy(ecs, l=l, sens_attr='Income (K)'))\n"
   ]
  },
  {
   "cell_type": "markdown",
   "metadata": {},
   "source": [
    "### Task5: (optional) Skewness and similarity attacks and t-closeness(bonus 10 pts)\n",
    "Is this dataset susciptable to the skewness and similarity attacks?\n",
    "Will t-closeness improve the privacy of the anonymized table?\n",
    "Submission\n",
    "The due date of this assignment is 11:59PM 3/10/2019. Please upload all files\n",
    "on the assignment page on BlackBoard. You need to submit the following:\n",
    "\n",
    "1. A report containing your response to tasks 1,3, and 4.\n",
    "2. The source code of the implementation of Mondrian algorithm."
   ]
  },
  {
   "cell_type": "markdown",
   "metadata": {
    "pycharm": {
     "name": "#%% md\n"
    }
   },
   "source": [
    "## References\n",
    "1. ARX - Data anonymization tool. https://arx.deidentifier.org/.\n",
    "2. Python implemntation for Mondrian. https://github.com/qiyuangong/Mondrian."
   ]
  }
 ],
 "metadata": {
  "kernelspec": {
   "display_name": "Python 3",
   "language": "python",
   "name": "python3"
  },
  "language_info": {
   "codemirror_mode": {
    "name": "ipython",
    "version": 3
   },
   "file_extension": ".py",
   "mimetype": "text/x-python",
   "name": "python",
   "nbconvert_exporter": "python",
   "pygments_lexer": "ipython3",
   "version": "3.7.3"
  },
  "pycharm": {
   "stem_cell": {
    "cell_type": "raw",
    "source": [],
    "metadata": {
     "collapsed": false
    }
   }
  }
 },
 "nbformat": 4,
 "nbformat_minor": 1
}