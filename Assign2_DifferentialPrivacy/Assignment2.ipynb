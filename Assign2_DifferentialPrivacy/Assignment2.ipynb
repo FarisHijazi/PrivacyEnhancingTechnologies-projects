{
 "cells": [
  {
   "cell_type": "markdown",
   "metadata": {},
   "source": [
    "# KFUPM<br>College of Computer Science and Engineering<br>Computer Engineering Department<br>COE 449: Privacy Enhancing Technologies\n",
    "\n",
    "Fall 2019 (191)\n",
    "\n",
    "Assignment 2: Due date Thursday 26/10/\n",
    "\n",
    "Student: **Faris Hijazi s201578750**"
   ]
  },
  {
   "cell_type": "markdown",
   "metadata": {},
   "source": [
    "\n",
    "## Tasks\n",
    "\n",
    "### Question1: Laplace Mechanism (20 pts)\n",
    "\n",
    "Prove that a Laplace mechanism that adds random noise us-\n",
    "ing Laplace distribution with $\\frac{GS_F}{\\epsilon}$ is $\\epsilon$-deferentially private.\n"
   ]
  },
  {
   "cell_type": "markdown",
   "metadata": {},
   "source": [
    "![solution1](./notebook_images/COE449-HW2_p1.jpg)"
   ]
  },
  {
   "cell_type": "markdown",
   "metadata": {},
   "source": [
    "\n",
    "### Question2: Composition (30 pts)\n",
    "\n",
    "- (a) Assume that you have $k$ randomized algorithms $A_1 ,...,A_k$, each is $\\epsilon$differentially private. Prove that if you execute $A_1 ,...,A_k$, sequentially then the composed mechanisms is $k\\epsilon$-differentially private.\n",
    "- (b) Assume that you have a database partitioned in $k$ disjoint subsets $D_i$.\n",
    "For each subset, we run a randomized mechanims $A_i$ that is $\\epsilon$-differentially private. Prove that executing the $k$ mechanisms in parallel over $D$ is $\\epsilon$-differentially private.\n"
   ]
  },
  {
   "cell_type": "markdown",
   "metadata": {},
   "source": [
    "![solution12](./notebook_images/COE449-HW2_p2.jpg)"
   ]
  },
  {
   "cell_type": "markdown",
   "metadata": {},
   "source": [
    "\n",
    "### Question3: Differential Privacy Implementation (50 pts)\n",
    "\n",
    "The goal of this task is to understand the concept of differential privacy by implementing a differentially private histogram using Laplace mechanism.\n",
    "The objective is to generate and draw noisy histogram bins.\n",
    "\n",
    "#### Input\n",
    "\n",
    "Your program takes the following as inputs\n",
    "\n",
    "- Input dataset files\n",
    "- Privacy budget $\\epsilon$\n",
    "- Number and sizes of bins\n",
    "\n",
    "#### Dataset description\n",
    "\n",
    "The dataset used in this task is the IPUMS data extracted\n",
    "from the 2001 US Census. The dataset has 8 attributes as\n",
    "described in Table 1. The size of the dataset is 20,000 tuples (rows). All attributes include numerical values only.\n",
    "For example, Gender attributes can be either 1 or 2, which represents Male and Female, respectively. The Income attribute is the annual income in thousand USD, for example, an income\n",
    "of 20 means 20,000 (20K).\n",
    "\n",
    "|  .   |.        |.         |.             |.             |.          |.            |.            |\n",
    "| --- | ------ | ------- | ----------- | ----------- | -------- | ---------- | ---------- |\n",
    "| Age | Gender | Marital | Race status | Birth place | Language | Occupation | Income (K) |\n",
    "\n",
    "Table 1: Scheme of Census dataset\n",
    "\n",
    "#### Output\n",
    "\n",
    "The output of your program is a differentially private his-\n",
    "togram for each of the following two dimensions in IPUMS\n",
    "dataset\n",
    "\n",
    "- Age\n",
    "- Salary\n"
   ]
  },
  {
   "cell_type": "code",
   "execution_count": 1,
   "metadata": {},
   "outputs": [],
   "source": [
    "import numpy as np\n",
    "import matplotlib.pyplot as plt\n",
    "import pandas as pd\n",
    "\n",
    "N_BINS = 10 # number of bins\n",
    "epsilon = 0.1 # privacy budget E\n"
   ]
  },
  {
   "cell_type": "code",
   "execution_count": 2,
   "metadata": {},
   "outputs": [
    {
     "data": {
      "text/html": [
       "<div>\n",
       "<style scoped>\n",
       "    .dataframe tbody tr th:only-of-type {\n",
       "        vertical-align: middle;\n",
       "    }\n",
       "\n",
       "    .dataframe tbody tr th {\n",
       "        vertical-align: top;\n",
       "    }\n",
       "\n",
       "    .dataframe thead th {\n",
       "        text-align: right;\n",
       "    }\n",
       "</style>\n",
       "<table border=\"1\" class=\"dataframe\">\n",
       "  <thead>\n",
       "    <tr style=\"text-align: right;\">\n",
       "      <th></th>\n",
       "      <th>Age</th>\n",
       "      <th>Gender</th>\n",
       "      <th>Marital</th>\n",
       "      <th>Race status</th>\n",
       "      <th>Birth place</th>\n",
       "      <th>Language</th>\n",
       "      <th>Occupation</th>\n",
       "      <th>Income (K)</th>\n",
       "    </tr>\n",
       "  </thead>\n",
       "  <tbody>\n",
       "    <tr>\n",
       "      <th>0</th>\n",
       "      <td>33</td>\n",
       "      <td>1</td>\n",
       "      <td>6</td>\n",
       "      <td>2</td>\n",
       "      <td>1</td>\n",
       "      <td>1</td>\n",
       "      <td>10</td>\n",
       "      <td>144</td>\n",
       "    </tr>\n",
       "    <tr>\n",
       "      <th>1</th>\n",
       "      <td>40</td>\n",
       "      <td>2</td>\n",
       "      <td>4</td>\n",
       "      <td>1</td>\n",
       "      <td>1</td>\n",
       "      <td>1</td>\n",
       "      <td>6</td>\n",
       "      <td>830</td>\n",
       "    </tr>\n",
       "    <tr>\n",
       "      <th>2</th>\n",
       "      <td>21</td>\n",
       "      <td>2</td>\n",
       "      <td>6</td>\n",
       "      <td>1</td>\n",
       "      <td>1</td>\n",
       "      <td>1</td>\n",
       "      <td>3</td>\n",
       "      <td>992</td>\n",
       "    </tr>\n",
       "    <tr>\n",
       "      <th>3</th>\n",
       "      <td>39</td>\n",
       "      <td>1</td>\n",
       "      <td>4</td>\n",
       "      <td>1</td>\n",
       "      <td>1</td>\n",
       "      <td>1</td>\n",
       "      <td>6</td>\n",
       "      <td>673</td>\n",
       "    </tr>\n",
       "    <tr>\n",
       "      <th>4</th>\n",
       "      <td>55</td>\n",
       "      <td>2</td>\n",
       "      <td>4</td>\n",
       "      <td>1</td>\n",
       "      <td>1</td>\n",
       "      <td>1</td>\n",
       "      <td>10</td>\n",
       "      <td>470</td>\n",
       "    </tr>\n",
       "  </tbody>\n",
       "</table>\n",
       "</div>"
      ],
      "text/plain": [
       "   Age  Gender  Marital  Race status  Birth place  Language  Occupation  \\\n",
       "0   33       1        6            2            1         1          10   \n",
       "1   40       2        4            1            1         1           6   \n",
       "2   21       2        6            1            1         1           3   \n",
       "3   39       1        4            1            1         1           6   \n",
       "4   55       2        4            1            1         1          10   \n",
       "\n",
       "   Income (K)  \n",
       "0         144  \n",
       "1         830  \n",
       "2         992  \n",
       "3         673  \n",
       "4         470  "
      ]
     },
     "execution_count": 2,
     "metadata": {},
     "output_type": "execute_result"
    }
   ],
   "source": [
    "data = pd.read_csv('ipums.csv')\n",
    "data.head()"
   ]
  },
  {
   "cell_type": "code",
   "execution_count": 3,
   "metadata": {},
   "outputs": [],
   "source": [
    "age = data['Age']\n",
    "salary = data['Income (K)']\n",
    "\n",
    "age_hist, age_bins = np.histogram(age, bins=N_BINS)\n",
    "salary_hist, salary_bins = np.histogram(salary, bins=N_BINS)\n"
   ]
  },
  {
   "cell_type": "code",
   "execution_count": 16,
   "metadata": {},
   "outputs": [
    {
     "name": "stdout",
     "output_type": "stream",
     "text": [
      "Unperturbed histograms (RAW)\n"
     ]
    },
    {
     "data": {
      "text/plain": [
       "Text(0.5, 1.0, 'salary (RAW)')"
      ]
     },
     "execution_count": 16,
     "metadata": {},
     "output_type": "execute_result"
    },
    {
     "data": {
      "image/png": "[encoded data removed]",
      "text/plain": [
       "<Figure size 432x288 with 1 Axes>"
      ]
     },
     "metadata": {
      "needs_background": "light"
     },
     "output_type": "display_data"
    },
    {
     "data": {
      "image/png": "[encoded data removed]",
      "text/plain": [
       "<Figure size 432x288 with 1 Axes>"
      ]
     },
     "metadata": {
      "needs_background": "light"
     },
     "output_type": "display_data"
    }
   ],
   "source": [
    "\n",
    "def plot_hist_from_bins(hist, bins, **kwargs):\n",
    "    fig, ax = plt.subplots()\n",
    "    # hist, bins = np.histogram(x, **kwargs)\n",
    "    width = 0.9 * (bins[1] - bins[0])\n",
    "    center = (bins[:-1] + bins[1:]) / 2\n",
    "\n",
    "    ax.bar(center, hist, align='center', width=width)\n",
    "    return fig\n",
    "\n",
    "print('Unperturbed histograms (RAW)')\n",
    "\n",
    "f = plot_hist_from_bins(age_hist, age_bins)\n",
    "plt.title('age (RAW)')\n",
    "\n",
    "f = plot_hist_from_bins(salary_hist, salary_bins)\n",
    "plt.title('salary (RAW)')\n"
   ]
  },
  {
   "cell_type": "code",
   "execution_count": 17,
   "metadata": {
    "scrolled": false
   },
   "outputs": [
    {
     "name": "stdout",
     "output_type": "stream",
     "text": [
      "lambda =  10.0\n"
     ]
    },
    {
     "data": {
      "text/plain": [
       "Text(0.5, 1.0, 'salary (Laplace)')"
      ]
     },
     "execution_count": 17,
     "metadata": {},
     "output_type": "execute_result"
    },
    {
     "data": {
      "image/png": "[encoded data removed]",
      "text/plain": [
       "<Figure size 432x288 with 1 Axes>"
      ]
     },
     "metadata": {
      "needs_background": "light"
     },
     "output_type": "display_data"
    },
    {
     "data": {
      "image/png": "[encoded data removed]",
      "text/plain": [
       "<Figure size 432x288 with 1 Axes>"
      ]
     },
     "metadata": {
      "needs_background": "light"
     },
     "output_type": "display_data"
    }
   ],
   "source": [
    "# adding the Laplace noise to each bin\n",
    "lambda_ = 1/epsilon\n",
    "print('lambda = ', lambda_)\n",
    "\n",
    "age_hist_laplace += np.random.laplace(scale=lambda_, size=age_hist.shape)\n",
    "salary_hist_laplace += np.random.laplace(scale=lambda_, size=salary_hist.shape)\n",
    "\n",
    "f = plot_hist_from_bins(age_hist_laplace, age_bins)\n",
    "plt.title('age (Laplace)')\n",
    "\n",
    "f = plot_hist_from_bins(salary_hist_laplace, salary_bins)\n",
    "plt.title('salary (Laplace)')"
   ]
  },
  {
   "cell_type": "code",
   "execution_count": 21,
   "metadata": {},
   "outputs": [
    {
     "name": "stdout",
     "output_type": "stream",
     "text": [
      "Age bin deltas: [ -5.19483814 -21.90559102 -19.27379443 -21.51569508 -11.06537617\n",
      "   7.99750608  15.08609657  -2.61397685 -36.36093136 -13.91743756]\n",
      "\n",
      "Salary bin deltas: [-0.11418419 31.42963447  5.40823898 17.81573584 21.2316597   4.37342763\n",
      " 38.67691332 13.10542777 13.36646206 36.2452841 ]\n"
     ]
    }
   ],
   "source": [
    "# buckets/bins deltas (new vs old)\n",
    "print('Age bin deltas:', age_hist_laplace - age_hist)\n",
    "print()\n",
    "print('Salary bin deltas:', salary_hist_laplace - salary_hist)\n",
    "\n"
   ]
  },
  {
   "cell_type": "markdown",
   "metadata": {},
   "source": [
    "\n",
    "## Submission\n",
    "\n",
    "The due date of this assignment is 11:59PM 26/10/2019. Please upload\n",
    "all files on the assignment page on BlackBoard. You need to submit the\n",
    "following:\n",
    "\n",
    "1. A brief report including your answers to Questions 1 and 2. In addition,\n",
    "    the report should include the obtained differentially private histograms\n",
    "    from Question 3, and a comparison with the original hostograms (without privacy). Explain and discuss, if any, the algorithmic optimizations\n",
    "    you have used in your implementation. Discuss the experiences and\n",
    "    lessons you have learned from the implementation.\n",
    "2. A zip file that contains the PDF brief report, the source files of your code (in any language), and a README   explaining how to compile/run your program\n",
    "\n",
    "## References\n",
    "\n",
    "1. <https://people.eecs.berkeley.edu/~stephentu/writeups/6885-lec20-b.pdf>\n"
   ]
  },
  {
   "cell_type": "code",
   "execution_count": null,
   "metadata": {},
   "outputs": [],
   "source": []
  }
 ],
 "metadata": {
  "file_extension": ".py",
  "kernelspec": {
   "display_name": "Python 3",
   "language": "python",
   "name": "python3"
  },
  "language_info": {
   "codemirror_mode": {
    "name": "ipython",
    "version": 3
   },
   "file_extension": ".py",
   "mimetype": "text/x-python",
   "name": "python",
   "nbconvert_exporter": "python",
   "pygments_lexer": "ipython3",
   "version": "3.7.3"
  },
  "mimetype": "text/x-python",
  "name": "python",
  "npconvert_exporter": "python",
  "pygments_lexer": "ipython3",
  "version": 3
 },
 "nbformat": 4,
 "nbformat_minor": 2
}
